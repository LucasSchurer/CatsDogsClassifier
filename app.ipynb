{
 "cells": [
  {
   "cell_type": "code",
   "execution_count": 2,
   "metadata": {},
   "outputs": [],
   "source": [
    "from flask import Flask, request, render_template\n",
    "import tensorflow as tf\n",
    "from PIL import Image\n",
    "from io import BytesIO\n",
    "import base64\n",
    "from flask_ngrok import run_with_ngrok\n",
    "import requests"
   ]
  },
  {
   "cell_type": "markdown",
   "metadata": {},
   "source": [
    "## Load Model"
   ]
  },
  {
   "cell_type": "code",
   "execution_count": 3,
   "metadata": {},
   "outputs": [],
   "source": [
    "MODEL_PATH = './models/64/'\n",
    "\n",
    "model = tf.keras.models.load_model(MODEL_PATH)"
   ]
  },
  {
   "cell_type": "markdown",
   "metadata": {},
   "source": [
    "## Run App"
   ]
  },
  {
   "cell_type": "code",
   "execution_count": null,
   "metadata": {},
   "outputs": [],
   "source": [
    "app = Flask(__name__)\n",
    "\n",
    "def predict(img) :\n",
    "    img_array = tf.keras.utils.img_to_array(img)\n",
    "    img_array = tf.expand_dims(img_array, 0)\n",
    "    img_array = tf.image.resize(img_array, [180, 180])\n",
    "    \n",
    "    predictions = model.predict(img_array)\n",
    "    cat_percentage = predictions[0][0] * 100\n",
    "    dog_percentage = predictions[0][1] * 100\n",
    "    \n",
    "    return cat_percentage, dog_percentage\n",
    "\n",
    "def get_prediction_text(cat_percentage, dog_percentage) :\n",
    "    max_value = max(cat_percentage, dog_percentage)\n",
    "    \n",
    "    animal = \"cat\" if cat_percentage > dog_percentage else \"dog\"\n",
    "    \n",
    "    if max_value >= 85 :\n",
    "        return 'definitely a {}'.format(animal)\n",
    "    elif max_value >= 60 :\n",
    "        return 'probably a {}'.format(animal)\n",
    "    else :\n",
    "        return 'looks like a {}'.format(animal)\n",
    "\n",
    "def try_get_image_from_file(request) :\n",
    "    if 'file' not in request.files :\n",
    "        return False, '', '', 0, 0\n",
    "    \n",
    "    file = request.files['file']\n",
    "    \n",
    "    if file.filename == '' :\n",
    "        return False, '', '', 0, 0\n",
    "    \n",
    "    if file :\n",
    "            img = Image.open(file.stream)\n",
    "            with BytesIO() as buf :\n",
    "                img.save(buf, 'png')\n",
    "                image_bytes = buf.getvalue()\n",
    "                \n",
    "            encoded_string = base64.b64encode(image_bytes).decode()\n",
    "        \n",
    "            cat_percentage, dog_percentage = predict(img)\n",
    "\n",
    "            return True, encoded_string, get_prediction_text(cat_percentage, dog_percentage), cat_percentage, dog_percentage\n",
    "    \n",
    "    return False, '', '', 0, 0\n",
    "\n",
    "def try_get_image_from_url(request) :\n",
    "    url = request.form['url']\n",
    "    \n",
    "    if url == '' :\n",
    "        return False, '', '', 0, 0\n",
    "    \n",
    "    img = Image.open(requests.get(url, stream=True).raw)\n",
    "    \n",
    "    with BytesIO() as buf :\n",
    "        img.save(buf, 'png')\n",
    "        image_bytes = buf.getvalue()\n",
    "        \n",
    "    encoded_string = base64.b64encode(image_bytes).decode()\n",
    "\n",
    "    cat_percentage, dog_percentage = predict(img)\n",
    "\n",
    "    return True, encoded_string, get_prediction_text(cat_percentage, dog_percentage), cat_percentage, dog_percentage\n",
    "\n",
    "@app.route('/', methods=['GET', 'POST'])\n",
    "def index():\n",
    "    if request.method == 'POST' :\n",
    "        sucess, img_data, prediction_text, cat_percentage, dog_percentage = try_get_image_from_file(request)\n",
    "        \n",
    "        if sucess :\n",
    "            return render_template('index.html', img_data=img_data, prediction_text=prediction_text, cat_percentage=cat_percentage, dog_percentage=dog_percentage), 200\n",
    "        \n",
    "        sucess, img_data, prediction_text, cat_percentage, dog_percentage = try_get_image_from_url(request)\n",
    "            \n",
    "        return render_template('index.html', img_data=img_data, prediction_text=prediction_text, cat_percentage=cat_percentage, dog_percentage=dog_percentage), 200            \n",
    "        \n",
    "    return render_template('index.html', img_data='', prediction_text='', cat_percentage=0, dog_percentage=0), 200\n",
    "\n",
    "run_with_ngrok(app)\n",
    "\n",
    "if __name__ == '__main__':\n",
    "    app.run()"
   ]
  }
 ],
 "metadata": {
  "kernelspec": {
   "display_name": "tf",
   "language": "python",
   "name": "python3"
  },
  "language_info": {
   "codemirror_mode": {
    "name": "ipython",
    "version": 3
   },
   "file_extension": ".py",
   "mimetype": "text/x-python",
   "name": "python",
   "nbconvert_exporter": "python",
   "pygments_lexer": "ipython3",
   "version": "3.9.17"
  },
  "orig_nbformat": 4
 },
 "nbformat": 4,
 "nbformat_minor": 2
}
